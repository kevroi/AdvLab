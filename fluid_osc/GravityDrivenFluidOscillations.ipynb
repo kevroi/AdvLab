{
 "cells": [
  {
   "cell_type": "markdown",
   "metadata": {},
   "source": [
    "# Analysis of Gravity-driven Fluid Oscillations in a Drinking Straw\n",
    "\n",
    "Analysis script for numerical solution of differential equation"
   ]
  },
  {
   "cell_type": "code",
   "execution_count": 29,
   "metadata": {
    "collapsed": false
   },
   "outputs": [],
   "source": [
    "# import libraries\n",
    "import numpy as np\n",
    "import scipy as sp\n",
    "from ipywidgets import interact\n",
    "from scipy.integrate import odeint\n",
    "import matplotlib.pyplot as plt\n",
    "from scipy import optimize, stats\n",
    "# This makes the plots appear inside the notebook\n",
    "%matplotlib inline\n",
    "# %matplotlib nbagg"
   ]
  },
  {
   "cell_type": "markdown",
   "metadata": {},
   "source": [
    "The data recorded can be very simple -- e.g., https://youtu.be/8FPFSC4cGGM . Import video into the software \"Tracker\" and use ODE solver `odeint` in python to see how well the model matches with measured data."
   ]
  },
  {
   "cell_type": "markdown",
   "metadata": {},
   "source": [
    "## Water\n",
    "Running with data from the water experiment:"
   ]
  },
  {
   "cell_type": "markdown",
   "metadata": {},
   "source": [
    "## Vegetable Oil\n",
    "\n",
    "`oil_experiment.mov` has the data collected for the oil experiment.\n",
    "\n",
    "Running the data from the vegetable oil experiment:"
   ]
  },
  {
   "cell_type": "code",
   "execution_count": 28,
   "metadata": {
    "collapsed": false
   },
   "outputs": [],
   "source": [
    "# user-modified area: Import data:\n",
    "file_dir = './'\n",
    "filename= 'oilrli.txt'\n",
    "\n",
    "data = np.genfromtxt(filename,delimiter='\\t',skip_header=2 )\n",
    "time_data = data[:,0]\n",
    "x_data = data[:,1]\n",
    "z_data = data[:,1]*100 # in cm\n",
    "\n",
    "timeshift = 0 # shifted so that t=0 is the time in video that the cap is released.\n",
    "\n",
    "time_data_clean = time_data[np.isfinite(z_data)]-timeshift # cleaned data includes the timeshift, and removes any instances of infinite.\n",
    "\n",
    "z_data_clean = z_data[np.isfinite(z_data)]\n",
    "z_err = np.array([0.05]*len(z_data_clean))\n"
   ]
  },
  {
   "cell_type": "code",
   "execution_count": 27,
   "metadata": {},
   "outputs": [
    {
     "data": {
      "text/plain": [
       "array([-0.23993091,  0.71979273,  2.3993091 ,  3.03912486,  3.59896365,\n",
       "        3.9988485 ,  4.31875638,  4.31875638,  4.71864123,  4.7986182 ,\n",
       "        5.03854911,  5.19850305,  5.19850305,  5.27848002,  5.51841093,\n",
       "        5.5983879 ,  5.5983879 ,  5.83831881,  5.83831881,  5.83831881,\n",
       "        5.99827275,  6.15822669,  6.23820366,  6.15822669,  6.31818063,\n",
       "        6.15822669,  6.3981576 ,  6.3981576 ,  6.47813457,  6.47813457,\n",
       "        6.47813457,  6.63808851,  6.47813457,  6.63808851,  6.63808851,\n",
       "        6.55811154,  6.87801942,  6.79804245,  6.79804245,  6.71806548,\n",
       "        6.71806548,  6.79804245,  6.95799639,  7.03797336,  6.95799639,\n",
       "        6.95799639,  7.11795033,  7.1979273 ])"
      ]
     },
     "execution_count": 27,
     "metadata": {},
     "output_type": "execute_result"
    }
   ],
   "source": [
    "z_data_clean[7:]"
   ]
  },
  {
   "cell_type": "code",
   "execution_count": 41,
   "metadata": {
    "collapsed": false
   },
   "outputs": [
    {
     "data": {
      "image/png": "[encoded data removed]",
      "text/plain": [
       "<Figure size 432x288 with 1 Axes>"
      ]
     },
     "metadata": {
      "needs_background": "light"
     },
     "output_type": "display_data"
    }
   ],
   "source": [
    "# plot raw data\n",
    "plt.errorbar(time_data_clean[8:],z_data_clean[8:], yerr=z_err[8:], fmt='.')\n",
    "plt.xlabel('time (sec)',fontsize=15)\n",
    "plt.ylabel('fluid level (cm)',fontsize=15)\n",
    "plt.show()"
   ]
  },
  {
   "cell_type": "code",
   "execution_count": 20,
   "metadata": {
    "collapsed": false
   },
   "outputs": [
    {
     "name": "stdout",
     "output_type": "stream",
     "text": [
      "fluid level will be 0.09 cm above the bottom of the straw\n"
     ]
    }
   ],
   "source": [
    "# calculate the initial starting level of the fluid in the submersed straw using fluid statics:\n",
    "rho = 0.92 # mass density g/cm^3 [cite this!]\n",
    "P_atm = 1030 # g/cm^2\n",
    "h = 7 # cm\n",
    "H = 15  # length of straw, cm\n",
    "d = (1 - P_atm/(rho*h + P_atm))*H\n",
    "print('fluid level will be %2.2f cm above the bottom of the straw'%(d))"
   ]
  },
  {
   "cell_type": "markdown",
   "metadata": {},
   "source": [
    "We define the 0th column of the array Y as as $y$, 1th column of Z as $\\dot{z}$. \n",
    "\n",
    "$$\n",
    "\\vec{Z} =  \\begin{pmatrix}\n",
    "z\\\\\n",
    "\\dot{z}\n",
    "\\end{pmatrix}\n",
    "$$\n",
    "\n",
    "Then our defined function DZ_dt returns the derivatives of the array Y: \n",
    "\n",
    "$$\n",
    "\\dot{\\vec{Z}}=\\begin{pmatrix}\n",
    "\\dot{z}\\\\ \n",
    "\\ddot{z}\n",
    "\\end{pmatrix}\n",
    "$$\n",
    "as the right hand side of our ordinary differential equation, where $\\ddot{z}$ is filled in for the derived expression in the differential equation.\n",
    "\n",
    "The function odeint from scipy can solve this for $z(t)$. "
   ]
  },
  {
   "cell_type": "code",
   "execution_count": 38,
   "metadata": {
    "collapsed": false
   },
   "outputs": [
    {
     "data": {
      "application/vnd.jupyter.widget-view+json": {
       "model_id": "92a911004e98439891d953983bf44cc9",
       "version_major": 2,
       "version_minor": 0
      },
      "text/plain": [
       "interactive(children=(FloatSlider(value=7.0, description='h', max=20.0), FloatSlider(value=980.0, description=…"
      ]
     },
     "metadata": {},
     "output_type": "display_data"
    }
   ],
   "source": [
    "# Solving the Newton's law model and also equations 17a and 17b from Lorenceau paper:\n",
    "\n",
    "\n",
    "# Newton's law model\n",
    "def DZ_dt_Newton(Z, t,args):\n",
    "    h = args[0]\n",
    "    g = args[1]\n",
    "    b = args[2]\n",
    "    return [Z[1], -Z[1]**2/Z[0] - g +g*h/Z[0] -b*Z[1]/Z[0] ]\n",
    "\n",
    "# Lorenceau model:\n",
    "def DZ_dt_Lor(Z, t,args):\n",
    "    h = args[0]\n",
    "    g = args[1]\n",
    "    Omeg = args[3]\n",
    "    if Z[1]>0:\n",
    "        return [Z[1], 1/Z[0] - 1 -Omeg*Z[1] - (Z[1])**2/Z[0]]\n",
    "    else:\n",
    "        return [Z[1], 1/Z[0] - 1 -Omeg*Z[1] ]\n",
    "\n",
    "\n",
    "def plot_osc(h=7.0, g=9.8e2,b = 23,factor=2.60):\n",
    "\n",
    "    # prepare data for plotting:\n",
    "    z_data1 = z_data_clean[8:] # change the overall level so that bottom of straw is z=0\n",
    "    time_axis1 = time_data_clean[8:]  # only include data for positive times (after cap is released)\n",
    "    \n",
    "    # prepare parameters for solving models:\n",
    "    Omeg = 0.062*factor\n",
    "    params = (h,g,b,Omeg)    \n",
    "    \n",
    "    # solve Newton model:\n",
    "    t_soln = time_axis1\n",
    "    Z_soln_Newton = sp.integrate.odeint(DZ_dt_Newton, [0.02, 0], t_soln, args=(params,))   \n",
    "\n",
    "    z_soln_Newton = Z_soln_Newton[:,0]      # fluid height\n",
    "#     ydot_soln_Newton = Y_soln_Newton[:,1]   # fluid velocity\n",
    "\n",
    "    # solve Lorenceau model, equation 17a and 17b....\n",
    "    t_solnLor = np.arange(0, 30, 0.01)\n",
    "    Z_soln_Lor = sp.integrate.odeint(DZ_dt_Lor, [0.02, 0.00], t_solnLor, args=(params,))   \n",
    "    \n",
    "    z_soln_Lor = Z_soln_Lor[:,0]*h       # fluid height\n",
    "\n",
    "    Omeg = 0.062*factor\n",
    "    params = (h,g,b,Omeg)\n",
    "\n",
    "    plt.clf()\n",
    "    plt.plot(time_axis1,z_data1,'b.',label='Data') \n",
    "    plt.plot(t_soln,z_soln_Newton,'r',label='Newtonian model')\n",
    "\n",
    "    plt.xlabel('time (sec)',fontsize=15)\n",
    "    plt.ylabel('fluid level (cm)',fontsize=15)\n",
    "    plt.rc('xtick', labelsize=10)\n",
    "    plt.rc('ytick', labelsize=10)\n",
    "\n",
    "    plt.plot(t_solnLor*(h*1e-2/9.8)**0.5,z_soln_Lor,'g--',label='Lorenceau model')\n",
    "    plt.title('Fluid level oscillations with both models\\nOmega=%2.2e (no unit), h=%2.2f, b=%2.2e\\nfilename = %s'%(Omeg,h,b,filename),fontsize=15)\n",
    "    plt.legend(frameon=False,loc=1)\n",
    "    plt.xlim([-0.2,3])\n",
    "    plt.grid()\n",
    "#     plt.savefig('fluid oscillation with fits.png',dpi=400)\n",
    "    plt.show()\n",
    "\n",
    "\n",
    "   \n",
    "\n",
    "interact(plot_osc, h=(0.0, 20.0),g=(5.0e2, 15.0e2),b=(0.0, 30.0));\n"
   ]
  },
  {
   "cell_type": "markdown",
   "metadata": {},
   "source": [
    "*NEW* Chi-squared analysis to find the best parameters:"
   ]
  },
  {
   "cell_type": "code",
   "execution_count": 34,
   "metadata": {},
   "outputs": [
    {
     "name": "stdout",
     "output_type": "stream",
     "text": [
      "DoF = 45\n",
      "optimised parameters array popt = [10.04073017  0.72325197  0.62891517]\n",
      "For oscillations of the form Asin(wt)/(t^b)\n",
      "best fit A = 10.040730169702885 \n",
      "best fit w = 0.7232519668631903 \n",
      "best fit b = 0.6289151655816131 \n",
      "minimised chi-squared = 1188.9212314607728\n",
      "reduced chi^2 = 26.420471810239395\n",
      "P(chi^2_min, DoF) = 1.2928952642412276e-219\n"
     ]
    }
   ],
   "source": [
    "# DEFINE MODELS TO CHOOSE FROM\n",
    "def damped_sin(t, *param_vals):\n",
    "    return param_vals[0]*np.sin(param_vals[1]*t)*np.exp(-param_vals[2]*t )\n",
    "\n",
    "def power_decay(t, *param_vals):\n",
    "    return param_vals[0]*np.sin(param_vals[1]*t)/(t**param_vals[2])\n",
    "\n",
    "\n",
    "# CHOOSE A 3-PARAMETER MODEL HERE\n",
    "model_function = power_decay\n",
    "\n",
    "\n",
    "initial_values = np.array([5, 11, 1]) \n",
    "deg_freedom = time_data_clean[7:].size - initial_values.size # Make sure you understand why!\n",
    "print('DoF = {}'.format(deg_freedom))\n",
    "\n",
    "popt, pcov = optimize.curve_fit(model_function, \n",
    "                       time_data_clean[8:],\n",
    "                       z_data_clean[8:],\n",
    "                       sigma=z_err[8:],\n",
    "                       absolute_sigma=True, # Don't forget this!\n",
    "                       p0=initial_values)\n",
    "\n",
    "print('optimised parameters array popt = {}'.format(popt))\n",
    "\n",
    "a_solution, w_solution, b_solution = popt\n",
    "\n",
    "if model_function == damped_sin:\n",
    "    print('For oscillations of the form Asin(wt)*e^(bt)')\n",
    "    print('best fit A = {} '.format(a_solution))\n",
    "    print('best fit w = {} '.format(w_solution))\n",
    "    print('best fit b = {} '.format(b_solution))\n",
    "\n",
    "if model_function == power_decay:\n",
    "    print('For oscillations of the form Asin(wt)/(t^b)')\n",
    "    print('best fit A = {} '.format(a_solution))\n",
    "    print('best fit w = {} '.format(w_solution))\n",
    "    print('best fit b = {} '.format(b_solution))\n",
    "\n",
    "\n",
    "def chi_squared(model_params, model, x_data, y_data, y_error):\n",
    "    return np.sum(((y_data - model(x_data, *model_params))/y_error)**2)\n",
    "chisq_min = chi_squared(popt, # pass the array - no need to unpack\n",
    "                        model_function, \n",
    "                        time_data_clean[8:],\n",
    "                        z_data_clean[8:],\n",
    "                        z_err[8:],)\n",
    "\n",
    "print('minimised chi-squared = {}'.format(chisq_min))\n",
    "\n",
    "chisq_reduced = chisq_min/deg_freedom\n",
    "print('reduced chi^2 = {}'.format(chisq_reduced))\n",
    "\n",
    "P_value = stats.chi2.sf(chisq_min, deg_freedom)\n",
    "print('P(chi^2_min, DoF) = {}'.format(P_value))"
   ]
  },
  {
   "cell_type": "markdown",
   "metadata": {},
   "source": [
    "The above result is exciting! Both models match data *pretty well*!!!"
   ]
  },
  {
   "cell_type": "markdown",
   "metadata": {},
   "source": [
    "# Going further: examining the frequency spectrum\n",
    "Our analysis so far captures most of the relevant physics. However, sometimes looking in the frequency domain can give insights that weren't readily available in time-domain analysis..."
   ]
  },
  {
   "cell_type": "code",
   "execution_count": 6,
   "metadata": {
    "collapsed": false
   },
   "outputs": [
    {
     "data": {
      "image/png": "[encoded data removed]",
      "text/plain": [
       "<matplotlib.figure.Figure at 0x7fc01ba2f358>"
      ]
     },
     "metadata": {},
     "output_type": "display_data"
    }
   ],
   "source": [
    "# define all same things as above:\n",
    "\n",
    "h = 10\n",
    "g=980\n",
    "b=23\n",
    "factor=2.60\n",
    "\n",
    "# prepare data for plotting:\n",
    "z_data1 = z_data_clean[8:]+h # change the overall level so that bottom of straw is z=0\n",
    "time_axis1 = time_data_clean[8:]  # only include data for positive times (after cap is released)\n",
    "\n",
    "# prepare parameters for solving models:\n",
    "Omeg = 0.062*factor\n",
    "params = (h,g,b,Omeg)    \n",
    "\n",
    "# solve Newton model:\n",
    "t_soln = time_axis1\n",
    "Z_soln_Newton = sp.integrate.odeint(DZ_dt_Newton, [0.02, 0], t_soln, args=(params,))   \n",
    "\n",
    "z_soln_Newton = Z_soln_Newton[:,0]      # fluid height\n",
    "#     ydot_soln_Newton = Y_soln_Newton[:,1]   # fluid velocity\n",
    "\n",
    "# solve Lorenceau model, equation 17a and 17b....\n",
    "t_solnLor = np.arange(0, 300, 0.01)\n",
    "Z_soln_Lor = sp.integrate.odeint(DZ_dt_Lor, [0.02, 0.00], t_solnLor, args=(params,))   \n",
    "\n",
    "z_soln_Lor = Z_soln_Lor[:,0]*h       # fluid height\n",
    "\n",
    "Omeg = 0.062*factor\n",
    "params = (h,g,b,Omeg)\n",
    "\n",
    "plt.clf()\n",
    "plt.plot(time_axis1,z_data1,'b.',label='Data') \n",
    "plt.plot(t_soln,z_soln_Newton,'r',label='Newtonian model')\n",
    "\n",
    "plt.xlabel('time (sec)',fontsize=15)\n",
    "plt.ylabel('fluid level (cm)',fontsize=15)\n",
    "plt.rc('xtick', labelsize=10)\n",
    "plt.rc('ytick', labelsize=10)\n",
    "\n",
    "plt.plot(t_solnLor*(h*1e-2/9.8)**0.5,z_soln_Lor,'g--',label='Lorenceau model')\n",
    "plt.title('Fluid level oscillations with both models\\nOmega=%2.2e (no unit), h=%2.2f, b=%2.2e\\nfilename = %s'%(Omeg,h,b,filename),fontsize=15)\n",
    "plt.legend(frameon=False,loc=1)\n",
    "plt.xlim([-0.2,3])\n",
    "plt.grid()\n",
    "#     plt.savefig('fluid oscillation with fits.png',dpi=400)\n",
    "plt.show()"
   ]
  },
  {
   "cell_type": "code",
   "execution_count": 7,
   "metadata": {
    "collapsed": false
   },
   "outputs": [
    {
     "data": {
      "image/png": "[encoded data removed]",
      "text/plain": [
       "<matplotlib.figure.Figure at 0x7fc04afef438>"
      ]
     },
     "metadata": {},
     "output_type": "display_data"
    }
   ],
   "source": [
    "# plot solution for longer time so as to get denser data points in the frequency spectrum:\n",
    "\n",
    "t_soln_sec = t_solnLor*(h*1e-2/9.8)**0.5\n",
    "plt.clf()\n",
    "# plt.plot(t_soln,z_soln_Newton,'r',label='ode solution')\n",
    "plt.plot(t_solnLor*(h*1e-2/9.8)**0.5,z_soln_Lor,'r',label='ode solution')\n",
    "\n",
    "plt.plot(time_axis1,z_data1,'b*',label='y data') \n",
    "# plt.xlim([-.1,5])\n",
    "plt.show()\n",
    "z_soln = z_soln_Lor"
   ]
  },
  {
   "cell_type": "code",
   "execution_count": 8,
   "metadata": {
    "collapsed": false
   },
   "outputs": [],
   "source": [
    "# perform the discrete Fourier transform of the model which is fit to the data:\n",
    "\n",
    "Z_FFT = np.fft.fft(z_soln-np.mean(z_soln))\n",
    "z2 = Z_FFT * np.conjugate(Z_FFT)\n",
    "pow = abs(z2[1:len(Z_FFT)//2] + z2[:len(Z_FFT)//2:-1])\n",
    "pow = pow/np.max(pow)\n",
    "DT = t_soln_sec[1]-t_soln_sec[0]   # sample time\n",
    "freq = (np.fft.fftfreq(t_soln_sec.shape[0])/DT)[1:len(Z_FFT)//2]"
   ]
  },
  {
   "cell_type": "code",
   "execution_count": 9,
   "metadata": {
    "collapsed": false
   },
   "outputs": [
    {
     "data": {
      "image/png": "[encoded data removed]",
      "text/plain": [
       "<matplotlib.figure.Figure at 0x7fc01b7f36a0>"
      ]
     },
     "metadata": {},
     "output_type": "display_data"
    }
   ],
   "source": [
    "# check the power spectrum:\n",
    "\n",
    "title = 'Power spectrum'\n",
    "xaxis_label = 'frequency (Hz)'\n",
    "yaxis_label = 'signal (a.u.)'\n",
    "\n",
    "plt.plot(freq,pow,'.-')\n",
    "\n",
    "plt.xlabel(xaxis_label,fontsize=15)\n",
    "plt.ylabel(yaxis_label,fontsize=15)\n",
    "plt.grid()\n",
    "plt.title(title,fontsize=20)\n",
    "plt.xlim([0,6])\n",
    "# plt.savefig('power spectrum.png',dpi=400)\n",
    "plt.show()"
   ]
  },
  {
   "cell_type": "code",
   "execution_count": 10,
   "metadata": {
    "collapsed": false
   },
   "outputs": [
    {
     "data": {
      "text/plain": [
       "1.5839191898578666"
      ]
     },
     "execution_count": 10,
     "metadata": {},
     "output_type": "execute_result"
    }
   ],
   "source": [
    "m = np.argmax(pow)\n",
    "freq[m]"
   ]
  },
  {
   "cell_type": "markdown",
   "metadata": {},
   "source": [
    "Compare this peak value to the oscillation frequency that we can analytically derive in the limit of small oscillations:\n",
    "\n",
    "$$ f = \\frac{\\omega}{2 \\pi} = \\frac{1}{2 \\pi} \\left ( \\frac{g}{h} \\right )^{1/2}$$"
   ]
  },
  {
   "cell_type": "code",
   "execution_count": 11,
   "metadata": {
    "collapsed": false
   },
   "outputs": [],
   "source": [
    "h_guess = 10 # cm"
   ]
  },
  {
   "cell_type": "code",
   "execution_count": 12,
   "metadata": {
    "collapsed": false
   },
   "outputs": [
    {
     "name": "stdout",
     "output_type": "stream",
     "text": [
      "small oscillation frequency = 1.576 Hz\n"
     ]
    }
   ],
   "source": [
    "f_est = 1/(2*np.pi)*np.sqrt(g/h_guess)\n",
    "print('small oscillation frequency = %2.3f Hz'%(f_est))"
   ]
  },
  {
   "cell_type": "markdown",
   "metadata": {},
   "source": [
    "Fit the power spectrum with a Lorentzian function:"
   ]
  },
  {
   "cell_type": "code",
   "execution_count": 13,
   "metadata": {
    "collapsed": false
   },
   "outputs": [
    {
     "data": {
      "image/png": "[encoded data removed]",
      "text/plain": [
       "<matplotlib.figure.Figure at 0x7fc01b70b240>"
      ]
     },
     "metadata": {},
     "output_type": "display_data"
    }
   ],
   "source": [
    "def Lorentzian(x_val, h, w, x_c, y_0):\n",
    "    return ((h * w**2)/((w**2)+(4*(x_val - x_c)**2)) + y_0)\n",
    "h_g   = 1    #h = height\n",
    "w_g   = 1        #w = fwhm\n",
    "x_c_g = 1.5        #x_c = x val of peak\n",
    "y_0_g = 0           #y_0 = y val of asymptote\n",
    "\n",
    "fit_from_Hz = 0.5\n",
    "fit_to_Hz = 2.5\n",
    "\n",
    "fit_from_Hz = 1\n",
    "fit_to_Hz = 2.5\n",
    "\n",
    "fit_from = int(np.round(np.interp(fit_from_Hz,freq,np.arange(len(freq)))))\n",
    "fit_to = int(np.round(np.interp(fit_to_Hz,freq,np.arange(len(freq)))))\n",
    "\n",
    "\n",
    "\n",
    "#best fit lines (guesses help the process)\n",
    "p_guess = [h_g, w_g, x_c_g, y_0_g]\n",
    "peak, pcov = sp.optimize.curve_fit(Lorentzian, freq[fit_from:fit_to],pow[fit_from:fit_to], p0 = p_guess)\n",
    "\n",
    "perr = np.sqrt(np.diag(pcov))\n",
    "plt.plot(freq[:100],pow[:100],'bo',label = 'power spectrum')\n",
    "# plt.plot(freq[:100], Lorentzian(freq[:100], *p_guess), 'g--',label='guess')\n",
    "plt.plot(freq[:100], Lorentzian(freq[:100], *peak), 'r',label='Lorentzian fit')\n",
    "plt.grid()\n",
    "\n",
    "plt.axvline(x=f_est)\n",
    "# plt.axvline(x=fit_to_Hz)\n",
    "wdith_plot = 0.8\n",
    "plt.xlim([peak[2]-wdith_plot,peak[2]+wdith_plot])\n",
    "xaxis_label = 'frequency (Hz)'\n",
    "yaxis_label = 'signal (a.u.)'\n",
    "plt.xlabel(xaxis_label,fontsize=15)\n",
    "plt.ylabel(yaxis_label,fontsize=15)\n",
    "plt.legend(frameon=False,loc=2) \n",
    "plt.savefig('fig3 - frequency spectrum.png',dpi=400)\n",
    "plt.show()"
   ]
  },
  {
   "cell_type": "code",
   "execution_count": 14,
   "metadata": {
    "collapsed": false
   },
   "outputs": [
    {
     "name": "stdout",
     "output_type": "stream",
     "text": [
      "Our fitted values using Lorentzian model:\n",
      "Height: 0.944335219 a.u.\n",
      "FWHM : 0.31352 Hz\n",
      "Center: x =1.57944 Hz\n",
      "Flatline: y =0.042939149 a.u.\n",
      "\n"
     ]
    }
   ],
   "source": [
    "print(\"Our fitted values using Lorentzian model:\")\n",
    "print(\"Height: %.9f\"%(peak[0]),\"a.u.\")\n",
    "print(\"FWHM : %.5f\"%(peak[1]),\"Hz\")\n",
    "print(\"Center: x =%.5f\"%(peak[2]),\"Hz\")\n",
    "print(\"Flatline: y =%.9f\"%(peak[3]),\"a.u.\")\n",
    "print()"
   ]
  },
  {
   "cell_type": "code",
   "execution_count": 15,
   "metadata": {
    "collapsed": false
   },
   "outputs": [
    {
     "name": "stdout",
     "output_type": "stream",
     "text": [
      "The width of the power spectrum is 0.31 Hz which implies a decay time of DT=3.19e+00 sec\n"
     ]
    }
   ],
   "source": [
    "# the width of the power spectrum gives an estimate of the timescale of the decay:\n",
    "\n",
    "FWHM = peak[1]\n",
    "DT = 1/(FWHM)\n",
    "print('The width of the power spectrum is %2.2f Hz which implies a decay time of DT=%2.2e sec'%(FWHM,DT))"
   ]
  },
  {
   "cell_type": "code",
   "execution_count": 16,
   "metadata": {
    "collapsed": false
   },
   "outputs": [
    {
     "name": "stdout",
     "output_type": "stream",
     "text": [
      "discrepancy bw small oscillations and measured peak is -0.25 %\n"
     ]
    }
   ],
   "source": [
    "print('discrepancy bw small oscillations and measured peak is %2.2f %%'%((f_est - peak[2])/f_est*100))"
   ]
  },
  {
   "cell_type": "markdown",
   "metadata": {},
   "source": [
    "# Further considerations:"
   ]
  },
  {
   "cell_type": "markdown",
   "metadata": {},
   "source": [
    "Considering the viscosity of water -- \n",
    "If the time scale of motion is happening faster than a characteristic time scale given by T = (2nd page, 2nd paragraph of Lorenceau paper):\n",
    "\n",
    "$$ \\rho R^2/\\eta$$\n",
    "\n",
    "then it is not needed to include viscous dissipation along the walls of the tube. "
   ]
  },
  {
   "cell_type": "code",
   "execution_count": 17,
   "metadata": {
    "collapsed": true
   },
   "outputs": [],
   "source": [
    "eta = 1.002e-3 # Pa*sec\n",
    "rho = 1000 # kg/m^3\n",
    "R = 0.005 # meters"
   ]
  },
  {
   "cell_type": "code",
   "execution_count": 18,
   "metadata": {
    "collapsed": false
   },
   "outputs": [
    {
     "data": {
      "text/plain": [
       "24.9500998003992"
      ]
     },
     "execution_count": 18,
     "metadata": {},
     "output_type": "execute_result"
    }
   ],
   "source": [
    "timescale = rho* R**2/eta\n",
    "timescale"
   ]
  },
  {
   "cell_type": "markdown",
   "metadata": {},
   "source": [
    "25 seconds -- indeed, no need to worry about dissipation along the walls of the tube. Then it is all about the singular pressure loss at the tube opening at the bottom as eddies appear, dissipating energy"
   ]
  },
  {
   "cell_type": "markdown",
   "metadata": {
    "collapsed": true
   },
   "source": [
    "https://www.saylor.org/site/wp-content/uploads/2011/04/Viscosity.pdf\n",
    "\n",
    "\n",
    "https://en.wikipedia.org/wiki/Laminar_flow\n",
    "\n",
    "Also, we can calculate the kinematic viscosity of water, yeilding the Reynolds number:\n",
    "\n"
   ]
  },
  {
   "cell_type": "code",
   "execution_count": 19,
   "metadata": {
    "collapsed": false
   },
   "outputs": [
    {
     "name": "stdout",
     "output_type": "stream",
     "text": [
      "Reynolds # = 2426.97\n"
     ]
    }
   ],
   "source": [
    "mu = 8.9e-4 # Pa*sec @ 25 deg C   \n",
    "rho = 1000 # kg/m^3 density of water\n",
    "nu =  mu/rho   # ν is the kinematic viscosity of the fluid, ν = (m2/s);\n",
    "D = 10.8e-3    # DH is the hydraulic diameter of the pipe (m);\n",
    "vymax = 0.2 # m/s  -- this is an estimate of the peak velocity, just from looking at the data.\n",
    "\n",
    "Re = vymax *D/nu\n",
    "\n",
    "print('Reynolds # = %2.2f'%(Re))"
   ]
  },
  {
   "cell_type": "markdown",
   "metadata": {},
   "source": [
    "This Reynolds number is in an in-between the laminar and turbulent flow regimes at the very beginning, which may explain the discrepancy between the experimental data and the models. Both models assume a laminar flow regime, where linear 'channels' of water flow do not cross over each other. The remaining flow, with lower velocities, is in the laminar flow regime."
   ]
  },
  {
   "cell_type": "code",
   "execution_count": 20,
   "metadata": {
    "collapsed": false
   },
   "outputs": [
    {
     "data": {
      "text/plain": [
       "0.0621338938796939"
      ]
     },
     "execution_count": 20,
     "metadata": {},
     "output_type": "execute_result"
    }
   ],
   "source": [
    "# calculation of omega factor in Lorenceau, Eqn. 16.\n",
    "omeg = 16*eta*(9.2e-2)**0.5/(rho*(0.010/2)**2 * 9.8**0.5)\n",
    "omeg\n",
    "# units check out to be unitless"
   ]
  },
  {
   "cell_type": "code",
   "execution_count": null,
   "metadata": {
    "collapsed": true
   },
   "outputs": [],
   "source": []
  }
 ],
 "metadata": {
  "kernelspec": {
   "display_name": "Python 3",
   "language": "python",
   "name": "python3"
  },
  "language_info": {
   "codemirror_mode": {
    "name": "ipython",
    "version": 3
   },
   "file_extension": ".py",
   "mimetype": "text/x-python",
   "name": "python",
   "nbconvert_exporter": "python",
   "pygments_lexer": "ipython3",
   "version": "3.8.5"
  },
  "widgets": {
   "state": {
    "3e5b677120394ef195205ccb1aae1fd3": {
     "views": [
      {
       "cell_index": 7
      }
     ]
    }
   },
   "version": "1.2.0"
  }
 },
 "nbformat": 4,
 "nbformat_minor": 2
}
